{
 "cells": [
  {
   "cell_type": "markdown",
   "metadata": {},
   "source": [
    "# tutorial for COMP309 , in Week 1\n",
    "\n",
    "A jupyter notebook with a first look at...\n",
    " * markdown\n",
    " * python\n",
    " * numpy\n",
    " * pandas\n",
    " * sklearn, maybe"
   ]
  },
  {
   "cell_type": "markdown",
   "metadata": {},
   "source": [
    "### first: anaconda\n",
    "\n",
    "Anaconda, while not essential, bundles up _everything we need_ here.\n",
    "\n",
    "https://docs.anaconda.com/anaconda"
   ]
  },
  {
   "cell_type": "markdown",
   "metadata": {},
   "source": [
    "## basic python"
   ]
  },
  {
   "cell_type": "code",
   "execution_count": null,
   "metadata": {},
   "outputs": [],
   "source": [
    "x = 3.1\n",
    "type(x)"
   ]
  },
  {
   "cell_type": "code",
   "execution_count": null,
   "metadata": {},
   "outputs": [],
   "source": [
    "y = 6\n",
    "type(y)"
   ]
  },
  {
   "cell_type": "code",
   "execution_count": null,
   "metadata": {},
   "outputs": [],
   "source": [
    "x*y"
   ]
  },
  {
   "cell_type": "code",
   "execution_count": null,
   "metadata": {},
   "outputs": [],
   "source": [
    "x = [14,5,6,6]\n",
    "type(x)"
   ]
  },
  {
   "cell_type": "code",
   "execution_count": null,
   "metadata": {},
   "outputs": [],
   "source": [
    "print(x[:2])"
   ]
  },
  {
   "cell_type": "code",
   "execution_count": null,
   "metadata": {},
   "outputs": [],
   "source": [
    "x.append(7)\n",
    "x"
   ]
  },
  {
   "cell_type": "code",
   "execution_count": null,
   "metadata": {},
   "outputs": [],
   "source": [
    "set(x)"
   ]
  },
  {
   "cell_type": "code",
   "execution_count": null,
   "metadata": {},
   "outputs": [],
   "source": [
    "for z in x:\n",
    "    print(z)\n",
    "    # in python, the indentation matters!"
   ]
  },
  {
   "cell_type": "code",
   "execution_count": null,
   "metadata": {},
   "outputs": [],
   "source": [
    "# a dictionary (like java's Map)\n",
    "mymap = {}\n",
    "mymap['a'] = x\n",
    "mymap['b'] = y\n",
    "mymap"
   ]
  },
  {
   "cell_type": "code",
   "execution_count": null,
   "metadata": {},
   "outputs": [],
   "source": [
    "for k,v in mymap.items():\n",
    "    print('key: ',k, '\\t val: ', v)"
   ]
  },
  {
   "cell_type": "markdown",
   "metadata": {},
   "source": [
    "## numpy and matplotlib\n",
    "\n",
    "numpy is mainly about arrays (vectors, matrices)."
   ]
  },
  {
   "cell_type": "markdown",
   "metadata": {},
   "source": [
    "(nb. this is handy 'boilerplate' for almost any notebook)"
   ]
  },
  {
   "cell_type": "code",
   "execution_count": null,
   "metadata": {},
   "outputs": [],
   "source": [
    "%matplotlib inline \n",
    "# so can have plots rendered in this notebook\n",
    "\n",
    "# import stuff\n",
    "import matplotlib.pyplot as plt # plotting\n",
    "import numpy as np # fast arrays so we can use matrices, vectors etc\n",
    "import numpy.random as rng # random numbers for fun\n",
    "np.set_printoptions(precision=2) # limit precision when printing arrays"
   ]
  },
  {
   "cell_type": "code",
   "execution_count": null,
   "metadata": {},
   "outputs": [],
   "source": [
    "np.ones(4)"
   ]
  },
  {
   "cell_type": "code",
   "execution_count": null,
   "metadata": {},
   "outputs": [],
   "source": [
    "# create a random array of \"data\"\n",
    "A = rng.randint(0,10, size=(4,6))\n",
    "A = np.sort(A,axis=0)\n",
    "print(A)\n",
    "plt.imshow(A, cmap=\"hot\")"
   ]
  },
  {
   "cell_type": "code",
   "execution_count": null,
   "metadata": {},
   "outputs": [],
   "source": [
    "print(A)\n",
    "print(\"shape: \", A.shape)\n",
    "print(A.max(axis=0))  # or alternatively... pass r to np.max, like this:\n",
    "print(np.max(A,axis=1))"
   ]
  },
  {
   "cell_type": "code",
   "execution_count": null,
   "metadata": {},
   "outputs": [],
   "source": [
    "B = rng.randint(0,6,size=(4,6))\n",
    "C = rng.randint(0,6,size=(6,1))\n",
    "print(B,'\\n\\n',C)"
   ]
  },
  {
   "cell_type": "code",
   "execution_count": null,
   "metadata": {},
   "outputs": [],
   "source": [
    "B.dot(C)"
   ]
  },
  {
   "cell_type": "code",
   "execution_count": null,
   "metadata": {},
   "outputs": [],
   "source": [
    "plt.imshow(B*B)  \n",
    "# nb. elt-wise multiplication (*) is not matrix multiplication (np.dot or np.matmul)"
   ]
  },
  {
   "cell_type": "code",
   "execution_count": null,
   "metadata": {},
   "outputs": [],
   "source": [
    "print(C.T)  # .T is transpose\n",
    "dummy = plt.plot(C,'or')  # 'or' = red circles"
   ]
  },
  {
   "cell_type": "markdown",
   "metadata": {},
   "source": [
    "## pandas\n",
    "\n",
    " * basic idea is a data structure called \"data frame\" \n",
    " * t.b.h. I have to look up pretty much everything in pandas...  --> https://pandas.pydata.org/Pandas_Cheat_Sheet.pdf\n",
    " * can give columns of data sensible names and refer to those instead of column=7...\n",
    " * by convention, use names like \"df\" to indicate it's a dataframe.\n",
    " \n"
   ]
  },
  {
   "cell_type": "code",
   "execution_count": null,
   "metadata": {},
   "outputs": [],
   "source": [
    "import pandas as pd"
   ]
  },
  {
   "cell_type": "code",
   "execution_count": null,
   "metadata": {},
   "outputs": [],
   "source": [
    "# from the cheatsheet....\n",
    "df = pd.DataFrame(\n",
    "[[4, 7, 10],\n",
    "[5, 8, 11],\n",
    "[6, 9, 12]],\n",
    "index=[1, 2, 3],\n",
    "columns=['a', 'b', 'c'])\n",
    "\n",
    "df"
   ]
  },
  {
   "cell_type": "markdown",
   "metadata": {},
   "source": [
    "go grab the banknotes data, and call it \"banknotes.csv\", say.\n",
    "We'll read it in with \"pandas\""
   ]
  },
  {
   "cell_type": "code",
   "execution_count": null,
   "metadata": {},
   "outputs": [],
   "source": [
    "# Read dataset\n",
    "df = pd.read_csv('~/Downloads/banknotes2.csv', index_col=0)\n",
    "df.head()"
   ]
  },
  {
   "cell_type": "code",
   "execution_count": null,
   "metadata": {},
   "outputs": [],
   "source": [
    "# Let's rename the columns..\n",
    "\n",
    "print(\"original names: \", df.columns)\n",
    "df.columns = ['dogs', 'cats', 'pigs', 'sheep', 'Class']\n",
    "df.head()"
   ]
  },
  {
   "cell_type": "code",
   "execution_count": null,
   "metadata": {},
   "outputs": [],
   "source": [
    "df[['dogs','cats','Class']]"
   ]
  },
  {
   "cell_type": "code",
   "execution_count": null,
   "metadata": {},
   "outputs": [],
   "source": [
    "df.describe()"
   ]
  },
  {
   "cell_type": "code",
   "execution_count": null,
   "metadata": {},
   "outputs": [],
   "source": [
    "df['newbie'] = df.dogs * df.dogs\n",
    "df"
   ]
  },
  {
   "cell_type": "code",
   "execution_count": null,
   "metadata": {},
   "outputs": [],
   "source": [
    "# dataframes can do some simple plots themselves...\n",
    "\n",
    "#df.plot.hist(y=['V3','V4'])\n",
    "df.plot.scatter(x='cats', y='pigs')"
   ]
  },
  {
   "cell_type": "markdown",
   "metadata": {},
   "source": [
    "## seaborn is often pretty, and plays nicely with pandas"
   ]
  },
  {
   "cell_type": "code",
   "execution_count": null,
   "metadata": {},
   "outputs": [],
   "source": [
    "import seaborn as sns  # optional! Just prettier plotting"
   ]
  },
  {
   "cell_type": "code",
   "execution_count": null,
   "metadata": {},
   "outputs": [],
   "source": [
    "sns.lmplot(x='cats',y='pigs',data=df)   # nb. fits a regression line by default"
   ]
  },
  {
   "cell_type": "code",
   "execution_count": null,
   "metadata": {},
   "outputs": [],
   "source": [
    "sns.lmplot(x='cats',y='pigs',fit_reg=False, hue='Class', data=df)\n",
    "\n",
    "# and, optionally, tweak stuff using Matplotlib\n",
    "plt.ylim(0, None)\n",
    "plt.xlim(0, None)"
   ]
  },
  {
   "cell_type": "markdown",
   "metadata": {},
   "source": [
    "## some sklearn\n",
    "\n",
    "\"scikit-learn\" is a library of machine learning tools.\n",
    "\n",
    "First, let's just grab the iris data (sklearn has a few datasets like this)"
   ]
  },
  {
   "cell_type": "code",
   "execution_count": null,
   "metadata": {},
   "outputs": [],
   "source": [
    "from sklearn import datasets\n",
    "data = datasets.load_iris()  # this is like a dict so far, not a dataframe...\n",
    "\n",
    "df = pd.DataFrame(data.data, columns=data.feature_names)\n",
    "df.head()"
   ]
  },
  {
   "cell_type": "markdown",
   "metadata": {},
   "source": [
    "## further playing with sklearn\n",
    "Use sklearn to make some fake date (blobs), in the form of X,Y as per lecture.\n",
    "\n",
    "Then turn the output classes (ints) into what's called a \"one-hot\" encoding.\n",
    "\n",
    "And print as colourful images..."
   ]
  },
  {
   "cell_type": "code",
   "execution_count": null,
   "metadata": {},
   "outputs": [],
   "source": [
    "X, Y = datasets.make_blobs(30,4)\n",
    "Y = np.atleast_2d(Y).T\n",
    "fig, ax = plt.subplots(1,3)\n",
    "ax[0].imshow(X)\n",
    "ax[1].imshow(Y, cmap='hot')\n",
    "\n",
    "from sklearn.preprocessing import OneHotEncoder\n",
    "enc = OneHotEncoder(handle_unknown='ignore')\n",
    "enc.fit(Y)\n",
    "ax[2].imshow(enc.transform(Y).toarray())"
   ]
  }
 ],
 "metadata": {
  "kernelspec": {
   "display_name": "Python 3",
   "language": "python",
   "name": "python3"
  },
  "language_info": {
   "codemirror_mode": {
    "name": "ipython",
    "version": 3
   },
   "file_extension": ".py",
   "mimetype": "text/x-python",
   "name": "python",
   "nbconvert_exporter": "python",
   "pygments_lexer": "ipython3",
   "version": "3.8.3"
  }
 },
 "nbformat": 4,
 "nbformat_minor": 2
}
